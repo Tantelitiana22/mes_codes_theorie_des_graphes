{
 "cells": [
  {
   "cell_type": "code",
   "execution_count": 2,
   "metadata": {
    "collapsed": true
   },
   "outputs": [],
   "source": [
    "import numpy as np"
   ]
  },
  {
   "cell_type": "markdown",
   "metadata": {},
   "source": [
    "## Algorithme de Ford:"
   ]
  },
  {
   "cell_type": "code",
   "execution_count": 69,
   "metadata": {
    "collapsed": true
   },
   "outputs": [],
   "source": [
    "def ford(init,arcs,sommet,poid,N=10000):\n",
    "    # initialiser pred avec a ou le vide\n",
    "    pred=[init if arcs[i][0]==init else \"\" for i in range(len(sommet))]\n",
    "    # Initialisation de k et de n:nombre de sommet-1\n",
    "    k=0\n",
    "    n=len(sommet)-1\n",
    "    # initialisation du potentiel d avec 0 et 10000\n",
    "    d=np.repeat(N,n+1).tolist()\n",
    "    d[sommet.index(init)]=0\n",
    "    d=np.array(d)\n",
    "    # condition bol pour s'arreter lorsque l'on obtient la même d sur 2 itération.\n",
    "    bol=True\n",
    "    # corps de l'algo\n",
    "    while(k<=n and bol):\n",
    "        k=k+1\n",
    "        d_pred=d.copy()\n",
    "        for i in range(len(arcs)):\n",
    "            ind1=int(list(np.where([ sommet[k]==arcs[i][0] for k in range(len(sommet))]))[0])\n",
    "            ind2=int(list(np.where([ sommet[k]==arcs[i][1] for k in range(len(sommet))]))[0])\n",
    "            if d[ind2]-d[ind1]>poid[i]:\n",
    "                d[ind2]=d[ind1]+poid[i]\n",
    "                pred[ind2]=sommet[ind1]\n",
    "\n",
    "        bol=(sum(d_pred==d)!=len(d))\n",
    "    \n",
    "    return({\"potentiel\":d.tolist(),\"predecesseur\":pred})"
   ]
  },
  {
   "cell_type": "code",
   "execution_count": 70,
   "metadata": {},
   "outputs": [
    {
     "data": {
      "text/plain": [
       "{'potentiel': [0, 5, 1, 8, 7, 3],\n",
       " 'predecesseur': ['a', 'f', 'a', 'f', 'b', 'c']}"
      ]
     },
     "execution_count": 70,
     "metadata": {},
     "output_type": "execute_result"
    }
   ],
   "source": [
    "arcs=[\"ac\",\"ab\",\"cb\",\"ce\",\"bd\",\"be\",\"ef\",\"fb\",\"fd\",\"cf\"]\n",
    "poid=np.array([1,7,5,7,4,2,3,2,5,2])\n",
    "sommet=[\"a\",\"b\",\"c\",\"d\",\"e\",\"f\"]\n",
    "init=\"a\"\n",
    "ford(init,arcs,sommet,poid)"
   ]
  },
  {
   "cell_type": "markdown",
   "metadata": {},
   "source": [
    "## Dijkstra:"
   ]
  },
  {
   "cell_type": "code",
   "execution_count": 5,
   "metadata": {
    "collapsed": true
   },
   "outputs": [],
   "source": [
    "def dijkstra_v1(init,arcs,sommet,poid,N=10000):\n",
    "    n=len(sommet)\n",
    "    ## Potentiel\n",
    "    V=np.repeat(N,n)\n",
    "    V={sommet[k]:V[k] for k in range(len(V))}\n",
    "    V[init]=0\n",
    "    # marqueur qui vaut 0 ou #0 si k est maquer pour k dans sommet.\n",
    "    marque={sommet[k]:0 for k in range(len(sommet))}\n",
    "    # Dictionnaire\n",
    "    poid={arcs[k]:poid[k] for k in range(len(arcs))}\n",
    "    # Predecesseur\n",
    "    P=np.repeat(init,n)\n",
    "    P={sommet[i]:P[i] for i in range(len(P))}\n",
    "\n",
    "    Vmin=0\n",
    "    x=\"\"\n",
    "    while Vmin<10000:\n",
    "        Vmin=10000\n",
    "        for y in sommet:\n",
    "            if marque[y]==0 and V[y]<Vmin:\n",
    "                x=y\n",
    "                Vmin=V[y]\n",
    "        if Vmin<10000:\n",
    "            marque[x]=1\n",
    "            x_succ=[arcs[k][1] for k in range(len(arcs)) if arcs[k][0]==x]\n",
    "            for y in x_succ:\n",
    "                if marque[y]==0 and V[x]+poid[x+y]<V[y]:\n",
    "                    V[y]=V[x]+poid[x+y]\n",
    "                    P[y]=x\n",
    "    V_res=[V[k] for k in sommet]\n",
    "    P_res=[P[k] for k in sommet]\n",
    "    return({\"potentiel\":V_res,\"predecesseur\":P_res})"
   ]
  },
  {
   "cell_type": "code",
   "execution_count": 61,
   "metadata": {},
   "outputs": [
    {
     "data": {
      "text/plain": [
       "{'potentiel': [0, 5, 1, 8, 7, 3],\n",
       " 'predecesseur': ['a', 'f', 'a', 'f', 'b', 'c']}"
      ]
     },
     "execution_count": 61,
     "metadata": {},
     "output_type": "execute_result"
    }
   ],
   "source": [
    "arcs=[\"ac\",\"ab\",\"cb\",\"ce\",\"bd\",\"be\",\"ef\",\"fb\",\"fd\",\"cf\"]\n",
    "poid=[1,7,5,7,4,2,3,2,5,2]\n",
    "\n",
    "sommet=[\"a\",\"b\",\"c\",\"d\",\"e\",\"f\"]\n",
    "init=\"a\"\n",
    "dijkstra_v1(init,arcs,sommet,poid)"
   ]
  },
  {
   "cell_type": "code",
   "execution_count": 140,
   "metadata": {},
   "outputs": [],
   "source": []
  },
  {
   "cell_type": "code",
   "execution_count": 148,
   "metadata": {},
   "outputs": [],
   "source": [
    "def dijkstra_v2(init,arcs,sommet,poid,N=10000):\n",
    "    \n",
    "    S=[init]\n",
    "    S_bar=[sommet[i] for i in range(len(sommet)) if sommet[i]!=init]\n",
    "    omega={arcs[t][0]:[arcs[k][1] for k in range(len(arcs)) if arcs[k][0]==arcs[t][0]] for t in range(len(arcs))}\n",
    "    pred=[init if arcs[i][0]==init else \"\" for i in range(len(sommet))]\n",
    "    poids={arcs[u]:poid[u] for u in range(len(poid))}\n",
    "    sommet=np.array(sommet)\n",
    "    P=[]\n",
    "    for k in range(len(sommet)):\n",
    "        if sommet[k]==init:\n",
    "            P.append(0)\n",
    "        elif sommet[k] in omega[init]:\n",
    "            P.append(poids[init+sommet[k]])\n",
    "        else:\n",
    "            P.append(N)\n",
    "    P=np.array(P)\n",
    "    while len(S_bar)!=0:\n",
    "        P_bar=[P[int(np.where(sommet==t)[0])] for t in S_bar ]\n",
    "        j=np.argmin(P_bar)\n",
    "        sj=S_bar[j]\n",
    "        S.append(sj)\n",
    "        del S_bar[j]\n",
    "    \n",
    "        if len(S_bar)!=0:\n",
    "            if sj in omega.keys():\n",
    "                inter=[i for i in omega[sj] if i in S_bar ]\n",
    "            else:\n",
    "                inter=[]\n",
    "            for i in range(len(inter)):\n",
    "                si=inter[i]\n",
    "                i_new=int(np.where(sommet==si)[0])\n",
    "                j_new=int(np.where(sommet==sj)[0])\n",
    "                if P[i_new]-P[j_new]>poids[sj+si]:\n",
    "                    P[i_new]=P[j_new]+poids[sj+si]\n",
    "                    pred[i_new]=sj    \n",
    "    return({\"potentiel\":P.tolist(),\"predeceseur\":pred})"
   ]
  },
  {
   "cell_type": "code",
   "execution_count": 150,
   "metadata": {},
   "outputs": [
    {
     "data": {
      "text/plain": [
       "{'potentiel': [0, 5, 1, 8, 7, 3], 'predeceseur': ['a', 'f', '', 'f', 'b', 'c']}"
      ]
     },
     "execution_count": 150,
     "metadata": {},
     "output_type": "execute_result"
    }
   ],
   "source": [
    "arcs=[\"ac\",\"ab\",\"cb\",\"ce\",\"bd\",\"be\",\"ef\",\"fb\",\"fd\",\"cf\"]\n",
    "poid=[1,7,5,7,4,2,3,2,5,2]\n",
    "\n",
    "sommet=[\"a\",\"b\",\"c\",\"d\",\"e\",\"f\"]\n",
    "init=\"a\"\n",
    "dijkstra_v2(init,arcs,sommet,poid)"
   ]
  }
 ],
 "metadata": {
  "kernelspec": {
   "display_name": "Python 3",
   "language": "python",
   "name": "python3"
  },
  "language_info": {
   "codemirror_mode": {
    "name": "ipython",
    "version": 3
   },
   "file_extension": ".py",
   "mimetype": "text/x-python",
   "name": "python",
   "nbconvert_exporter": "python",
   "pygments_lexer": "ipython3",
   "version": "3.6.3"
  }
 },
 "nbformat": 4,
 "nbformat_minor": 2
}
